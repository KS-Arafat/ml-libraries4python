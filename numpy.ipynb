{
 "cells": [
  {
   "cell_type": "code",
   "execution_count": 2,
   "metadata": {},
   "outputs": [],
   "source": [
    "import numpy as np"
   ]
  },
  {
   "cell_type": "code",
   "execution_count": 3,
   "metadata": {},
   "outputs": [
    {
     "name": "stdout",
     "output_type": "stream",
     "text": [
      "<class 'numpy.ndarray'>\n",
      "2\n",
      "(2, 3)\n",
      "int32\n"
     ]
    }
   ],
   "source": [
    "a = np.array([1,2,3])\n",
    "b = np.array([[1,2,3],[4,5,6]])\n",
    "print (type( b))\n",
    "print (b.ndim)\n",
    "print(b.shape)\n",
    "print(b.dtype)"
   ]
  },
  {
   "cell_type": "code",
   "execution_count": 4,
   "metadata": {},
   "outputs": [
    {
     "name": "stdout",
     "output_type": "stream",
     "text": [
      "8\n",
      "[6 7 8 9 0]\n",
      "[3 8]\n"
     ]
    }
   ],
   "source": [
    "# getters and Slicing\n",
    "Array2D = np.array([[1,2,3,4,5],[6,7,8,9,0]])\n",
    "print(Array2D[1,2]) # Printing specific element\n",
    "print(Array2D[1,:]) # printing specific Row\n",
    "print(Array2D[:,2]) # printing specific Col\n"
   ]
  },
  {
   "cell_type": "code",
   "execution_count": 5,
   "metadata": {},
   "outputs": [
    {
     "data": {
      "text/plain": [
       "array([[1, 2, 3, 4, 5],\n",
       "       [6, 7, 8, 9, 0]])"
      ]
     },
     "execution_count": 5,
     "metadata": {},
     "output_type": "execute_result"
    }
   ],
   "source": [
    "# numpy array is mutable\n",
    "Array2D[0,2] = 20\n",
    "Array2D[0,:] = 5 # changes full row to 5\n",
    "Array2D[0,:] = [1,2,3,4,5] # changes row to assigned list\n",
    "# same goes for column\n",
    "Array2D\n"
   ]
  },
  {
   "cell_type": "code",
   "execution_count": 6,
   "metadata": {},
   "outputs": [
    {
     "name": "stdout",
     "output_type": "stream",
     "text": [
      "(2, 2, 3)\n",
      "[[[ 1  2  3]\n",
      "  [ 4  5  6]]\n",
      "\n",
      " [[ 7  8  9]\n",
      "  [10 11 12]]]\n",
      "Slicing 01\n",
      " [[ 2  5]\n",
      " [ 8 11]]\n",
      "Slicing 02\n",
      " [[ 4  5  6]\n",
      " [10 11 12]]\n",
      "Slicing 03\n",
      " [[ 7  8  9]\n",
      " [10 11 12]]\n"
     ]
    }
   ],
   "source": [
    "# playing  with 3D array\n",
    "Array3D = np.array([[[1,2,3],[4,5,6]],[[7,8,9],[10,11,12]]])\n",
    "print(Array3D.shape)\n",
    "print(Array3D)\n",
    "\n",
    "print('Slicing 01\\n' , Array3D[:,:,1])\n",
    "print('Slicing 02\\n' , Array3D[:,1,:])\n",
    "print('Slicing 03\\n' , Array3D[1,:,:])\n",
    "\n"
   ]
  },
  {
   "cell_type": "code",
   "execution_count": 7,
   "metadata": {},
   "outputs": [
    {
     "name": "stdout",
     "output_type": "stream",
     "text": [
      "[[0 0]\n",
      " [0 0]]\n",
      "[[1. 1.]\n",
      " [1. 1.]]\n",
      "[[[69. 69. 69.]\n",
      "  [69. 69. 69.]]\n",
      "\n",
      " [[69. 69. 69.]\n",
      "  [69. 69. 69.]]]\n",
      "[[1 0 0 0]\n",
      " [0 1 0 0]\n",
      " [0 0 1 0]\n",
      " [0 0 0 1]]\n"
     ]
    }
   ],
   "source": [
    "# all 1s, 0s matrics\n",
    "print(np.zeros((2, 2), dtype=\"int32\"))\n",
    "print(np.ones((2, 2), dtype=\"float16\"))\n",
    "\n",
    "# full\n",
    "print(np.full(Array3D.shape, 69, \"float32\"))\n",
    "\n",
    "# identity matrix\n",
    "print(np.identity(4,dtype='int16'))"
   ]
  },
  {
   "cell_type": "code",
   "execution_count": 8,
   "metadata": {},
   "outputs": [
    {
     "name": "stdout",
     "output_type": "stream",
     "text": [
      "[[0.79332857 0.84099726]\n",
      " [0.2266515  0.591501  ]\n",
      " [0.21824197 0.03862675]]\n",
      "[[-1 -1]\n",
      " [-1  6]\n",
      " [ 5  1]]\n"
     ]
    }
   ],
   "source": [
    "# random value matrix\n",
    "print(np.random.rand(3,2))\n",
    "print(np.random.randint(-4,8,size=(3,2)))\n"
   ]
  },
  {
   "cell_type": "code",
   "execution_count": 9,
   "metadata": {},
   "outputs": [
    {
     "name": "stdout",
     "output_type": "stream",
     "text": [
      "axis 0\n",
      "[[[1 2]\n",
      "  [3 4]]\n",
      "\n",
      " [[1 2]\n",
      "  [3 4]]]\n",
      "\n",
      "axis 1\n",
      "[[[1 2]\n",
      "  [1 2]\n",
      "  [3 4]\n",
      "  [3 4]]]\n",
      "\n",
      "axis 2\n",
      "[[[1 1 2 2]\n",
      "  [3 3 4 4]]]\n"
     ]
    }
   ],
   "source": [
    "# Repeat array\n",
    "repeatingArray = np.array([[[1,2],[3,4]]])\n",
    "print('axis 0')\n",
    "print(np.repeat(repeatingArray,2,axis=0))\n",
    "print('\\naxis 1')\n",
    "print(np.repeat(repeatingArray,2,axis=1))\n",
    "print('\\naxis 2')\n",
    "print(np.repeat(repeatingArray,2,axis=2))\n"
   ]
  },
  {
   "cell_type": "code",
   "execution_count": 10,
   "metadata": {},
   "outputs": [
    {
     "name": "stdout",
     "output_type": "stream",
     "text": [
      "[[69  1]\n",
      " [ 1  1]] \n",
      " [[69  1]\n",
      " [ 1  1]] \n",
      " [[2 1]\n",
      " [1 1]]\n"
     ]
    }
   ],
   "source": [
    "# copy\n",
    "justAnArray = np.random.randint(0,3,(2,2))\n",
    "RefCopied = justAnArray\n",
    "ValueCopied = justAnArray.copy()\n",
    "RefCopied[0,0] = 69\n",
    "print(justAnArray,'\\n',RefCopied,'\\n',ValueCopied)\n",
    "\n"
   ]
  },
  {
   "cell_type": "code",
   "execution_count": 28,
   "metadata": {},
   "outputs": [
    {
     "name": "stdout",
     "output_type": "stream",
     "text": [
      "[[6 7 8]\n",
      " [4 0 0]\n",
      " [0 4 4]]\n",
      "Substraction:\n",
      " [[ 5  6  7]\n",
      " [ 3 -1 -1]\n",
      " [-1  3  3]]\n",
      "Multiplication:\n",
      " [[12 35 48]\n",
      " [ 8  0  0]\n",
      " [ 0 32  0]]\n",
      "[[6 7 8]\n",
      " [4 0 0]\n",
      " [0 4 4]]\n",
      "[[-0.2794155   0.6569866   0.98935825]\n",
      " [-0.7568025   0.          0.        ]\n",
      " [ 0.         -0.7568025  -0.7568025 ]]\n",
      "[[-0.28318531  0.71681469  1.42477796]\n",
      " [-0.85840735  0.          0.        ]\n",
      " [ 0.         -0.85840735 -0.85840735]]\n"
     ]
    }
   ],
   "source": [
    "# mathematic Uses\n",
    "dummy1 = np.random.randint(0,9,(3,3))\n",
    "dummy2 = np.random.randint(0,9,(3,3))\n",
    "print(dummy1)\n",
    "print('Substraction:\\n',dummy1 - 1)\n",
    "print('Multiplication:\\n',dummy1 *dummy2)\n",
    "\n",
    "print(dummy1)\n",
    "dummySin = np.sin(dummy1)\n",
    "print(dummySin)\n",
    "print(np.arcsin(dummySin))\n",
    "\n"
   ]
  },
  {
   "cell_type": "code",
   "execution_count": 17,
   "metadata": {},
   "outputs": [
    {
     "name": "stdout",
     "output_type": "stream",
     "text": [
      "1.0\n",
      "[[1. 0. 0.]\n",
      " [0. 1. 0.]\n",
      " [0. 0. 1.]]\n"
     ]
    }
   ],
   "source": [
    "# linear Algebra -> linalg\n",
    "identityMat = np.identity(3,'int16')\n",
    "print(np.linalg.det(identityMat))\n",
    "print(np.linalg.inv(identityMat))\n",
    "..."
   ]
  },
  {
   "cell_type": "code",
   "execution_count": 24,
   "metadata": {},
   "outputs": [
    {
     "name": "stdout",
     "output_type": "stream",
     "text": [
      "[[0 2 5]\n",
      " [5 5 8]\n",
      " [5 6 1]]\n",
      "0\n",
      "8\n",
      "37\n",
      "True\n"
     ]
    }
   ],
   "source": [
    "# Statistics\n",
    "stats = np.random.randint(0,9,(3,3))\n",
    "print(stats)\n",
    "print(np.min(stats))\n",
    "print(np.max(stats))\n",
    "print(np.sum(stats))"
   ]
  },
  {
   "cell_type": "code",
   "execution_count": 56,
   "metadata": {},
   "outputs": [
    {
     "name": "stdout",
     "output_type": "stream",
     "text": [
      "(2, 4)\n",
      "(8, 1)\n",
      "vt1\n",
      " [[1 2 3 4]\n",
      " [5 6 7 8]]\n",
      "ht1\n",
      " [1 2 3 4 5 6 7 8]\n",
      "ht2\n",
      " [[1. 1. 1. 1. 0. 0.]\n",
      " [1. 1. 1. 1. 0. 0.]]\n",
      "vt2\n",
      " [[1. 1.]\n",
      " [1. 1.]\n",
      " [1. 1.]\n",
      " [0. 0.]\n",
      " [0. 0.]]\n",
      "int to float :\n",
      " [1. 2. 3. 4.]\n"
     ]
    }
   ],
   "source": [
    "# Reorganizing Array\n",
    "beforeReshaping = np.random.randint(0,9,(2,4))\n",
    "print(beforeReshaping.shape)\n",
    "afterReshaping = beforeReshaping.reshape(8,1)\n",
    "print(afterReshaping.shape)\n",
    "# reshaping possible if shaping elements matches with elements of the required shape\n",
    "# like 4 x 2 = 2 x 2 x 2 = 8 x 1 = 2 x 4 \n",
    "\n",
    "# Vertical and Horizontal Statking\n",
    "a1 = np.array([1,2,3,4])\n",
    "a2 = np.array([5,6,7,8])\n",
    "vstk = np.vstack([a1,a2])\n",
    "hstk = np.hstack((a1,a2))\n",
    "print('vt1\\n',vstk)\n",
    "print('ht1\\n',hstk)\n",
    "h1 = np.ones(shape=(2,4))\n",
    "h2 = np.zeros(shape=(2,2))\n",
    "h3 = np.ones(shape=(3,2))\n",
    "print('ht2\\n',np.hstack([h1,h2]))\n",
    "print('vt2\\n',np.vstack([h3,h2]))\n",
    "\n",
    "# change datatype\n",
    "print('int to float :\\n',a1.astype('float16'))\n"
   ]
  },
  {
   "cell_type": "code",
   "execution_count": 86,
   "metadata": {},
   "outputs": [
    {
     "name": "stdout",
     "output_type": "stream",
     "text": [
      "[[6 7 4 8 3]\n",
      " [6 5 6 0 0]\n",
      " [5 7 5 3 4]\n",
      " [0 6 7 2 4]]\n",
      "[[ True  True False  True False]\n",
      " [ True False  True False False]\n",
      " [False  True False False False]\n",
      " [False  True  True False False]]\n",
      "[6 7 8 6 6 7 6 7]\n",
      "[7 3]\n",
      "[False  True  True  True False]\n",
      "[ True False  True  True]\n",
      "[False False False False]\n",
      "\n",
      " [[ True False False False False]\n",
      " [ True False  True False False]\n",
      " [False False False False False]\n",
      " [False  True False False False]]\n"
     ]
    }
   ],
   "source": [
    "# Advance Indexing and Boolean Masking\n",
    "\n",
    "data = np.random.randint(0, 9, (4, 5))\n",
    "\n",
    "print(data)\n",
    "print(data > 5)\n",
    "print(data[data > 5])\n",
    "\n",
    "print(data[[0, 2], [1, 3]])  # 0th row 1st col and 2nd row 3rd col\n",
    "\n",
    "print(np.any(data>6,axis=0))# any value of a col is greater than 6 then true\n",
    "print(np.any(data>6,axis=1))# any value of a row is greater than 6 then true\n",
    "\n",
    "print(np.all(data>6,axis=1))# all values of a row is greater than 6 then true\n",
    "\n",
    "print('\\n',(data >5 ) & (data<7))\n"
   ]
  },
  {
   "cell_type": "code",
   "execution_count": 91,
   "metadata": {},
   "outputs": [
    {
     "data": {
      "text/plain": [
       "array([[ 3,  2,  5,  4,  6,  5],\n",
       "       [ 7, 10, 11,  7, 10, 10],\n",
       "       [14, 15, 12,  7, 14, 18]])"
      ]
     },
     "execution_count": 91,
     "metadata": {},
     "output_type": "execute_result"
    }
   ],
   "source": [
    "# Read Data from File\n",
    "\n",
    "data = np.genfromtxt('./Numpy_Data.txt',dtype='int16',delimiter=',')\n",
    "data.cumsum(axis=0,dtype='int32')\n"
   ]
  }
 ],
 "metadata": {
  "kernelspec": {
   "display_name": "Python 3",
   "language": "python",
   "name": "python3"
  },
  "language_info": {
   "codemirror_mode": {
    "name": "ipython",
    "version": 3
   },
   "file_extension": ".py",
   "mimetype": "text/x-python",
   "name": "python",
   "nbconvert_exporter": "python",
   "pygments_lexer": "ipython3",
   "version": "3.10.3"
  },
  "orig_nbformat": 4
 },
 "nbformat": 4,
 "nbformat_minor": 2
}
