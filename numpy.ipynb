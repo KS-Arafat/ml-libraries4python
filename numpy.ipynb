{
 "cells": [
  {
   "cell_type": "code",
   "execution_count": 52,
   "metadata": {},
   "outputs": [],
   "source": [
    "import numpy as np"
   ]
  },
  {
   "cell_type": "code",
   "execution_count": 53,
   "metadata": {},
   "outputs": [
    {
     "name": "stdout",
     "output_type": "stream",
     "text": [
      "<class 'numpy.ndarray'>\n",
      "2\n",
      "(2, 3)\n",
      "int32\n"
     ]
    }
   ],
   "source": [
    "a = np.array([1,2,3])\n",
    "b = np.array([[1,2,3],[4,5,6]])\n",
    "print (type( b))\n",
    "print (b.ndim)\n",
    "print(b.shape)\n",
    "print(b.dtype)"
   ]
  },
  {
   "cell_type": "code",
   "execution_count": 54,
   "metadata": {},
   "outputs": [
    {
     "name": "stdout",
     "output_type": "stream",
     "text": [
      "8\n",
      "[6 7 8 9 0]\n",
      "[3 8]\n"
     ]
    }
   ],
   "source": [
    "# getters and Slicing\n",
    "Array2D = np.array([[1,2,3,4,5],[6,7,8,9,0]])\n",
    "print(Array2D[1,2]) # Printing specific element\n",
    "print(Array2D[1,:]) # printing specific Row\n",
    "print(Array2D[:,2]) # printing specific Col\n"
   ]
  },
  {
   "cell_type": "code",
   "execution_count": 55,
   "metadata": {},
   "outputs": [
    {
     "data": {
      "text/plain": [
       "array([[1, 2, 3, 4, 5],\n",
       "       [6, 7, 8, 9, 0]])"
      ]
     },
     "execution_count": 55,
     "metadata": {},
     "output_type": "execute_result"
    }
   ],
   "source": [
    "# numpy array is mutable\n",
    "Array2D[0,2] = 20\n",
    "Array2D[0,:] = 5 # changes full row to 5\n",
    "Array2D[0,:] = [1,2,3,4,5] # changes row to assigned list\n",
    "# same goes for column\n",
    "Array2D\n"
   ]
  },
  {
   "cell_type": "code",
   "execution_count": 56,
   "metadata": {},
   "outputs": [
    {
     "name": "stdout",
     "output_type": "stream",
     "text": [
      "(2, 2, 3)\n",
      "[[[ 1  2  3]\n",
      "  [ 4  5  6]]\n",
      "\n",
      " [[ 7  8  9]\n",
      "  [10 11 12]]]\n",
      "Slicing 01\n",
      " [[ 2  5]\n",
      " [ 8 11]]\n",
      "Slicing 02\n",
      " [[ 4  5  6]\n",
      " [10 11 12]]\n",
      "Slicing 03\n",
      " [[ 7  8  9]\n",
      " [10 11 12]]\n"
     ]
    }
   ],
   "source": [
    "# playing  with 3D array\n",
    "Array3D = np.array([[[1,2,3],[4,5,6]],[[7,8,9],[10,11,12]]])\n",
    "print(Array3D.shape)\n",
    "print(Array3D)\n",
    "\n",
    "print('Slicing 01\\n' , Array3D[:,:,1])\n",
    "print('Slicing 02\\n' , Array3D[:,1,:])\n",
    "print('Slicing 03\\n' , Array3D[1,:,:])\n",
    "\n"
   ]
  },
  {
   "cell_type": "code",
   "execution_count": 67,
   "metadata": {},
   "outputs": [
    {
     "name": "stdout",
     "output_type": "stream",
     "text": [
      "[[0 0]\n",
      " [0 0]]\n",
      "[[1. 1.]\n",
      " [1. 1.]]\n",
      "[[[69. 69. 69.]\n",
      "  [69. 69. 69.]]\n",
      "\n",
      " [[69. 69. 69.]\n",
      "  [69. 69. 69.]]]\n",
      "[[1 0 0 0]\n",
      " [0 1 0 0]\n",
      " [0 0 1 0]\n",
      " [0 0 0 1]]\n"
     ]
    }
   ],
   "source": [
    "# all 1s, 0s matrics\n",
    "print(np.zeros((2, 2), dtype=\"int32\"))\n",
    "print(np.ones((2, 2), dtype=\"float16\"))\n",
    "\n",
    "# full\n",
    "print(np.full(Array3D.shape, 69, \"float32\"))\n",
    "\n",
    "# identity matrix\n",
    "print(np.identity(4,dtype='int16'))"
   ]
  },
  {
   "cell_type": "code",
   "execution_count": 65,
   "metadata": {},
   "outputs": [
    {
     "name": "stdout",
     "output_type": "stream",
     "text": [
      "[[0.6064936  0.27779161]\n",
      " [0.78586364 0.11256445]\n",
      " [0.59665018 0.48248679]]\n",
      "[[ 6  2]\n",
      " [ 3 -1]\n",
      " [-4  3]]\n"
     ]
    }
   ],
   "source": [
    "# random value matrix\n",
    "print(np.random.rand(3,2))\n",
    "print(np.random.randint(-4,8,size=(3,2)))\n"
   ]
  },
  {
   "cell_type": "code",
   "execution_count": 86,
   "metadata": {},
   "outputs": [
    {
     "name": "stdout",
     "output_type": "stream",
     "text": [
      "axis 0\n",
      "[[[1 2]\n",
      "  [3 4]]\n",
      "\n",
      " [[1 2]\n",
      "  [3 4]]]\n",
      "\n",
      "axis 1\n",
      "[[[1 2]\n",
      "  [1 2]\n",
      "  [3 4]\n",
      "  [3 4]]]\n",
      "\n",
      "axis 2\n",
      "[[[1 1 2 2]\n",
      "  [3 3 4 4]]]\n"
     ]
    }
   ],
   "source": [
    "# Repeat array\n",
    "repeatingArray = np.array([[[1,2],[3,4]]])\n",
    "print('axis 0')\n",
    "print(np.repeat(repeatingArray,2,axis=0))\n",
    "print('\\naxis 1')\n",
    "print(np.repeat(repeatingArray,2,axis=1))\n",
    "print('\\naxis 2')\n",
    "print(np.repeat(repeatingArray,2,axis=2))\n"
   ]
  },
  {
   "cell_type": "code",
   "execution_count": 94,
   "metadata": {},
   "outputs": [
    {
     "name": "stdout",
     "output_type": "stream",
     "text": [
      "[[69  0]\n",
      " [ 2  2]] \n",
      " [[69  0]\n",
      " [ 2  2]] \n",
      " [[0 0]\n",
      " [2 2]]\n"
     ]
    }
   ],
   "source": [
    "# copy\n",
    "justAnArray = np.random.randint(0,3,(2,2))\n",
    "RefCopied = justAnArray\n",
    "ValueCopied = justAnArray.copy()\n",
    "RefCopied[0,0] = 69\n",
    "print(justAnArray,'\\n',RefCopied,'\\n',ValueCopied)\n",
    "\n"
   ]
  },
  {
   "cell_type": "code",
   "execution_count": 103,
   "metadata": {},
   "outputs": [
    {
     "name": "stdout",
     "output_type": "stream",
     "text": [
      "[[3 1 2]\n",
      " [4 6 1]\n",
      " [5 8 8]]\n",
      "Substraction:\n",
      " [[2 0 1]\n",
      " [3 5 0]\n",
      " [4 7 7]]\n",
      "Multiplication:\n",
      " [[ 9  2 14]\n",
      " [20  0  8]\n",
      " [25 16 40]]\n"
     ]
    },
    {
     "data": {
      "text/plain": [
       "array([[ 0.14112001,  0.84147098,  0.90929743],\n",
       "       [-0.7568025 , -0.2794155 ,  0.84147098],\n",
       "       [-0.95892427,  0.98935825,  0.98935825]])"
      ]
     },
     "execution_count": 103,
     "metadata": {},
     "output_type": "execute_result"
    }
   ],
   "source": [
    "# mathematic Uses\n",
    "dummy1 = np.random.randint(0,9,(3,3))\n",
    "dummy2 = np.random.randint(0,9,(3,3))\n",
    "print(dummy1)\n",
    "print('Substraction:\\n',dummy1 - 1)\n",
    "print('Multiplication:\\n',dummy1 *dummy2)\n",
    "\n",
    "dummySin = np.sin(dummy1)\n",
    "dummySin\n",
    "\n"
   ]
  }
 ],
 "metadata": {
  "kernelspec": {
   "display_name": "Python 3",
   "language": "python",
   "name": "python3"
  },
  "language_info": {
   "codemirror_mode": {
    "name": "ipython",
    "version": 3
   },
   "file_extension": ".py",
   "mimetype": "text/x-python",
   "name": "python",
   "nbconvert_exporter": "python",
   "pygments_lexer": "ipython3",
   "version": "3.10.3"
  },
  "orig_nbformat": 4
 },
 "nbformat": 4,
 "nbformat_minor": 2
}
